{
  "cells": [
    {
      "cell_type": "code",
      "execution_count": 1,
      "metadata": {
        "colab": {
          "base_uri": "https://localhost:8080/"
        },
        "id": "iGh77YZuqpAi",
        "outputId": "9742ace1-7b97-4e7a-8b40-2a20fb3aa163"
      },
      "outputs": [
        {
          "name": "stdout",
          "output_type": "stream",
          "text": [
            "Collecting youtube-search-python\n",
            "  Downloading youtube_search_python-1.6.6-py3-none-any.whl (89 kB)\n",
            "\u001b[2K     \u001b[90m━━━━━━━━━━━━━━━━━━━━━━━━━━━━━━━━━━━━━━━━\u001b[0m \u001b[32m89.1/89.1 kB\u001b[0m \u001b[31m1.0 MB/s\u001b[0m eta \u001b[36m0:00:00\u001b[0m\n",
            "\u001b[?25hCollecting httpx>=0.14.2 (from youtube-search-python)\n",
            "  Downloading httpx-0.27.0-py3-none-any.whl (75 kB)\n",
            "\u001b[2K     \u001b[90m━━━━━━━━━━━━━━━━━━━━━━━━━━━━━━━━━━━━━━━━\u001b[0m \u001b[32m75.6/75.6 kB\u001b[0m \u001b[31m3.4 MB/s\u001b[0m eta \u001b[36m0:00:00\u001b[0m\n",
            "\u001b[?25hRequirement already satisfied: anyio in /usr/local/lib/python3.10/dist-packages (from httpx>=0.14.2->youtube-search-python) (3.7.1)\n",
            "Requirement already satisfied: certifi in /usr/local/lib/python3.10/dist-packages (from httpx>=0.14.2->youtube-search-python) (2024.2.2)\n",
            "Collecting httpcore==1.* (from httpx>=0.14.2->youtube-search-python)\n",
            "  Downloading httpcore-1.0.5-py3-none-any.whl (77 kB)\n",
            "\u001b[2K     \u001b[90m━━━━━━━━━━━━━━━━━━━━━━━━━━━━━━━━━━━━━━━━\u001b[0m \u001b[32m77.9/77.9 kB\u001b[0m \u001b[31m4.7 MB/s\u001b[0m eta \u001b[36m0:00:00\u001b[0m\n",
            "\u001b[?25hRequirement already satisfied: idna in /usr/local/lib/python3.10/dist-packages (from httpx>=0.14.2->youtube-search-python) (3.7)\n",
            "Requirement already satisfied: sniffio in /usr/local/lib/python3.10/dist-packages (from httpx>=0.14.2->youtube-search-python) (1.3.1)\n",
            "Collecting h11<0.15,>=0.13 (from httpcore==1.*->httpx>=0.14.2->youtube-search-python)\n",
            "  Downloading h11-0.14.0-py3-none-any.whl (58 kB)\n",
            "\u001b[2K     \u001b[90m━━━━━━━━━━━━━━━━━━━━━━━━━━━━━━━━━━━━━━━━\u001b[0m \u001b[32m58.3/58.3 kB\u001b[0m \u001b[31m4.7 MB/s\u001b[0m eta \u001b[36m0:00:00\u001b[0m\n",
            "\u001b[?25hRequirement already satisfied: exceptiongroup in /usr/local/lib/python3.10/dist-packages (from anyio->httpx>=0.14.2->youtube-search-python) (1.2.1)\n",
            "Installing collected packages: h11, httpcore, httpx, youtube-search-python\n",
            "Successfully installed h11-0.14.0 httpcore-1.0.5 httpx-0.27.0 youtube-search-python-1.6.6\n"
          ]
        }
      ],
      "source": [
        "pip install youtube-search-python"
      ]
    },
    {
      "cell_type": "code",
      "execution_count": 2,
      "metadata": {
        "colab": {
          "base_uri": "https://localhost:8080/"
        },
        "id": "014ttBR5qsgp",
        "outputId": "66544a4d-79dd-4390-b27d-7df09f4c1d74"
      },
      "outputs": [
        {
          "name": "stdout",
          "output_type": "stream",
          "text": [
            "Collecting ffmpeg\n",
            "  Downloading ffmpeg-1.4.tar.gz (5.1 kB)\n",
            "  Preparing metadata (setup.py) ... \u001b[?25l\u001b[?25hdone\n",
            "Building wheels for collected packages: ffmpeg\n",
            "  Building wheel for ffmpeg (setup.py) ... \u001b[?25l\u001b[?25hdone\n",
            "  Created wheel for ffmpeg: filename=ffmpeg-1.4-py3-none-any.whl size=6082 sha256=18cbbaed83e542af41ce31ec25550da2296a8e65f7cc2ec371c608758ce0b5dd\n",
            "  Stored in directory: /root/.cache/pip/wheels/8e/7a/69/cd6aeb83b126a7f04cbe7c9d929028dc52a6e7d525ff56003a\n",
            "Successfully built ffmpeg\n",
            "Installing collected packages: ffmpeg\n",
            "Successfully installed ffmpeg-1.4\n"
          ]
        }
      ],
      "source": [
        "pip install ffmpeg"
      ]
    },
    {
      "cell_type": "code",
      "execution_count": 3,
      "metadata": {
        "colab": {
          "base_uri": "https://localhost:8080/"
        },
        "id": "vB6tLm1bq0zF",
        "outputId": "6049ff46-1284-4fad-ea05-7f46c42c93fd"
      },
      "outputs": [
        {
          "name": "stdout",
          "output_type": "stream",
          "text": [
            "Requirement already satisfied: moviepy in /usr/local/lib/python3.10/dist-packages (1.0.3)\n",
            "Requirement already satisfied: decorator<5.0,>=4.0.2 in /usr/local/lib/python3.10/dist-packages (from moviepy) (4.4.2)\n",
            "Requirement already satisfied: tqdm<5.0,>=4.11.2 in /usr/local/lib/python3.10/dist-packages (from moviepy) (4.66.4)\n",
            "Requirement already satisfied: requests<3.0,>=2.8.1 in /usr/local/lib/python3.10/dist-packages (from moviepy) (2.31.0)\n",
            "Requirement already satisfied: proglog<=1.0.0 in /usr/local/lib/python3.10/dist-packages (from moviepy) (0.1.10)\n",
            "Requirement already satisfied: numpy>=1.17.3 in /usr/local/lib/python3.10/dist-packages (from moviepy) (1.25.2)\n",
            "Requirement already satisfied: imageio<3.0,>=2.5 in /usr/local/lib/python3.10/dist-packages (from moviepy) (2.31.6)\n",
            "Requirement already satisfied: imageio-ffmpeg>=0.2.0 in /usr/local/lib/python3.10/dist-packages (from moviepy) (0.4.9)\n",
            "Requirement already satisfied: pillow<10.1.0,>=8.3.2 in /usr/local/lib/python3.10/dist-packages (from imageio<3.0,>=2.5->moviepy) (9.4.0)\n",
            "Requirement already satisfied: setuptools in /usr/local/lib/python3.10/dist-packages (from imageio-ffmpeg>=0.2.0->moviepy) (67.7.2)\n",
            "Requirement already satisfied: charset-normalizer<4,>=2 in /usr/local/lib/python3.10/dist-packages (from requests<3.0,>=2.8.1->moviepy) (3.3.2)\n",
            "Requirement already satisfied: idna<4,>=2.5 in /usr/local/lib/python3.10/dist-packages (from requests<3.0,>=2.8.1->moviepy) (3.7)\n",
            "Requirement already satisfied: urllib3<3,>=1.21.1 in /usr/local/lib/python3.10/dist-packages (from requests<3.0,>=2.8.1->moviepy) (2.0.7)\n",
            "Requirement already satisfied: certifi>=2017.4.17 in /usr/local/lib/python3.10/dist-packages (from requests<3.0,>=2.8.1->moviepy) (2024.2.2)\n"
          ]
        }
      ],
      "source": [
        "pip install moviepy"
      ]
    },
    {
      "cell_type": "code",
      "execution_count": 4,
      "metadata": {
        "colab": {
          "base_uri": "https://localhost:8080/"
        },
        "id": "z4EgONZbq3eY",
        "outputId": "6daa38f5-e631-4a16-ab3e-8658a254214a"
      },
      "outputs": [
        {
          "name": "stdout",
          "output_type": "stream",
          "text": [
            "Collecting pytube\n",
            "  Downloading pytube-15.0.0-py3-none-any.whl (57 kB)\n",
            "\u001b[2K     \u001b[90m━━━━━━━━━━━━━━━━━━━━━━━━━━━━━━━━━━━━━━━━\u001b[0m \u001b[32m57.6/57.6 kB\u001b[0m \u001b[31m882.2 kB/s\u001b[0m eta \u001b[36m0:00:00\u001b[0m\n",
            "\u001b[?25hInstalling collected packages: pytube\n",
            "Successfully installed pytube-15.0.0\n"
          ]
        }
      ],
      "source": [
        "pip install pytube"
      ]
    },
    {
      "cell_type": "code",
      "execution_count": 6,
      "metadata": {
        "colab": {
          "base_uri": "https://localhost:8080/"
        },
        "id": "i5IA-8Ygq6Ed",
        "outputId": "0873db00-2c6b-4bd9-b148-6cabf8604878"
      },
      "outputs": [
        {
          "name": "stdout",
          "output_type": "stream",
          "text": [
            "MoviePy - Writing audio in downloads/cut_Dua.mp3\n"
          ]
        },
        {
          "name": "stderr",
          "output_type": "stream",
          "text": []
        },
        {
          "name": "stdout",
          "output_type": "stream",
          "text": [
            "MoviePy - Done.\n",
            "MoviePy - Writing audio in downloads/cut_Collage Wali Gt Road.mp3\n"
          ]
        },
        {
          "name": "stderr",
          "output_type": "stream",
          "text": []
        },
        {
          "name": "stdout",
          "output_type": "stream",
          "text": [
            "MoviePy - Done.\n",
            "MoviePy - Writing audio in downloads/cut_Sohne Mukhde Da.mp3\n"
          ]
        },
        {
          "name": "stderr",
          "output_type": "stream",
          "text": []
        },
        {
          "name": "stdout",
          "output_type": "stream",
          "text": [
            "MoviePy - Done.\n",
            "MoviePy - Writing audio in downloads/cut_Aate Di Chiri.mp3\n"
          ]
        },
        {
          "name": "stderr",
          "output_type": "stream",
          "text": []
        },
        {
          "name": "stdout",
          "output_type": "stream",
          "text": [
            "MoviePy - Done.\n",
            "MoviePy - Writing audio in downloads/cut_Putt Mehlan De.mp3\n"
          ]
        },
        {
          "name": "stderr",
          "output_type": "stream",
          "text": []
        },
        {
          "name": "stdout",
          "output_type": "stream",
          "text": [
            "MoviePy - Done.\n",
            "MoviePy - Writing audio in downloads/cut_Sharry Mann - Meri Zindgi Ban Ja - Ishq Garaari - Punjabi Movie Songs.mp3\n"
          ]
        },
        {
          "name": "stderr",
          "output_type": "stream",
          "text": []
        },
        {
          "name": "stdout",
          "output_type": "stream",
          "text": [
            "MoviePy - Done.\n",
            "MoviePy - Writing audio in downloads/cut_Cute Munda.mp3\n"
          ]
        },
        {
          "name": "stderr",
          "output_type": "stream",
          "text": []
        },
        {
          "name": "stdout",
          "output_type": "stream",
          "text": [
            "MoviePy - Done.\n",
            "MoviePy - Writing audio in downloads/cut_Dilwale.mp3\n"
          ]
        },
        {
          "name": "stderr",
          "output_type": "stream",
          "text": []
        },
        {
          "name": "stdout",
          "output_type": "stream",
          "text": [
            "MoviePy - Done.\n",
            "MoviePy - Writing audio in downloads/cut_Meri Zindgi Bana Ja.mp3\n"
          ]
        },
        {
          "name": "stderr",
          "output_type": "stream",
          "text": []
        },
        {
          "name": "stdout",
          "output_type": "stream",
          "text": [
            "MoviePy - Done.\n",
            "MoviePy - Writing audio in downloads/cut_Kinaare.mp3\n"
          ]
        },
        {
          "name": "stderr",
          "output_type": "stream",
          "text": []
        },
        {
          "name": "stdout",
          "output_type": "stream",
          "text": [
            "MoviePy - Done.\n",
            "MoviePy - Writing audio in downloads/cut_Zindagi.mp3\n"
          ]
        },
        {
          "name": "stderr",
          "output_type": "stream",
          "text": []
        },
        {
          "name": "stdout",
          "output_type": "stream",
          "text": [
            "MoviePy - Done.\n",
            "MoviePy - Writing audio in downloads/cut_Bhul Jayi Na (Full Song)  Sharry Maan  Latest Punjabi Song 2017  Speed Records.mp3\n"
          ]
        },
        {
          "name": "stderr",
          "output_type": "stream",
          "text": []
        },
        {
          "name": "stdout",
          "output_type": "stream",
          "text": [
            "MoviePy - Done.\n",
            "MoviePy - Writing audio in downloads/cut_Hostel.mp3\n"
          ]
        },
        {
          "name": "stderr",
          "output_type": "stream",
          "text": []
        },
        {
          "name": "stdout",
          "output_type": "stream",
          "text": [
            "MoviePy - Done.\n",
            "MoviePy - Writing audio in downloads/cut_Yankne - Sharry Maan - Full HD Brand New Punjabi Song 2012 HD  Punjabi Songs  Speed Records.mp3\n"
          ]
        },
        {
          "name": "stderr",
          "output_type": "stream",
          "text": []
        },
        {
          "name": "stdout",
          "output_type": "stream",
          "text": [
            "MoviePy - Done.\n",
            "MoviePy - Writing audio in downloads/cut_Boomerang.mp3\n"
          ]
        },
        {
          "name": "stderr",
          "output_type": "stream",
          "text": []
        },
        {
          "name": "stdout",
          "output_type": "stream",
          "text": [
            "MoviePy - Done.\n",
            "MoviePy - Writing audio in downloads/cut_Best Of Sharry Mann  Audio Jukebox  Punjabi Songs Collection  Speed Records.mp3\n"
          ]
        },
        {
          "name": "stderr",
          "output_type": "stream",
          "text": []
        },
        {
          "name": "stdout",
          "output_type": "stream",
          "text": [
            "MoviePy - Done.\n",
            "MoviePy - Writing audio in downloads/cut_Yaari Da Vasta Reloaded.mp3\n"
          ]
        },
        {
          "name": "stderr",
          "output_type": "stream",
          "text": []
        },
        {
          "name": "stdout",
          "output_type": "stream",
          "text": [
            "MoviePy - Done.\n",
            "MoviePy - Writing audio in downloads/cut_Latest Punjabi Song  Sharry Mann - Meri Zindagi  New Punajbi Songs.mp3\n"
          ]
        },
        {
          "name": "stderr",
          "output_type": "stream",
          "text": []
        },
        {
          "name": "stdout",
          "output_type": "stream",
          "text": [
            "MoviePy - Done.\n",
            "MoviePy - Writing audio in downloads/cut_Gediyaan  Sharry Maan feat MistaBaaz  Deep Fateh  Jamie  Latest Punjabi Songs  Aarti Sharma.mp3\n"
          ]
        },
        {
          "name": "stderr",
          "output_type": "stream",
          "text": []
        },
        {
          "name": "stdout",
          "output_type": "stream",
          "text": [
            "MoviePy - Done.\n",
            "MoviePy - Writing audio in downloads/cut_3 Peg (From 3 Peg).mp3\n"
          ]
        },
        {
          "name": "stderr",
          "output_type": "stream",
          "text": []
        },
        {
          "name": "stdout",
          "output_type": "stream",
          "text": [
            "MoviePy - Done.\n",
            "MoviePy - Writing audio in 102103438.mp3\n"
          ]
        },
        {
          "name": "stderr",
          "output_type": "stream",
          "text": [
            "chunk:   5%|▍         | 626/13248 [00:00<00:17, 727.68it/s, now=None]WARNING:py.warnings:/usr/local/lib/python3.10/dist-packages/moviepy/audio/io/readers.py:197: UserWarning: Error in file downloads/cut_Collage Wali Gt Road.mp3, At time t=30.02-30.07 seconds, indices wanted: 99048-99847, but len(buffer)=99049\n",
            "index 99049 is out of bounds for axis 0 with size 99049\n",
            "  warnings.warn(\"Error in file %s, \"%(self.filename)+\n",
            "\n",
            "chunk:  10%|▉         | 1259/13248 [00:01<00:16, 737.76it/s, now=None]WARNING:py.warnings:/usr/local/lib/python3.10/dist-packages/moviepy/audio/io/readers.py:197: UserWarning: Error in file downloads/cut_Yaari Da Vasta Reloaded.mp3, At time t=30.00-30.05 seconds, indices wanted: 99848-101447, but len(buffer)=99849\n",
            "index 99849 is out of bounds for axis 0 with size 99849\n",
            "  warnings.warn(\"Error in file %s, \"%(self.filename)+\n",
            "\n",
            "chunk:  20%|█▉        | 2603/13248 [00:03<00:15, 705.48it/s, now=None]WARNING:py.warnings:/usr/local/lib/python3.10/dist-packages/moviepy/audio/io/readers.py:197: UserWarning: Error in file downloads/cut_Zindagi.mp3, At time t=30.01-30.06 seconds, indices wanted: 99448-100648, but len(buffer)=99449\n",
            "index 99449 is out of bounds for axis 0 with size 99449\n",
            "  warnings.warn(\"Error in file %s, \"%(self.filename)+\n",
            "\n",
            "chunk:  30%|██▉       | 3919/13248 [00:05<00:13, 701.13it/s, now=None]WARNING:py.warnings:/usr/local/lib/python3.10/dist-packages/moviepy/audio/io/readers.py:197: UserWarning: Error in file downloads/cut_Sharry Mann - Meri Zindgi Ban Ja - Ishq Garaari - Punjabi Movie Songs.mp3, At time t=30.02-30.07 seconds, indices wanted: 99048-99847, but len(buffer)=99049\n",
            "index 99049 is out of bounds for axis 0 with size 99049\n",
            "  warnings.warn(\"Error in file %s, \"%(self.filename)+\n",
            "\n",
            "chunk:  35%|███▍      | 4585/13248 [00:06<00:12, 673.06it/s, now=None]WARNING:py.warnings:/usr/local/lib/python3.10/dist-packages/moviepy/audio/io/readers.py:197: UserWarning: Error in file downloads/cut_Hostel.mp3, At time t=30.00-30.05 seconds, indices wanted: 99848-101447, but len(buffer)=99849\n",
            "index 99849 is out of bounds for axis 0 with size 99849\n",
            "  warnings.warn(\"Error in file %s, \"%(self.filename)+\n",
            "\n",
            "chunk:  45%|████▍     | 5945/13248 [00:08<00:19, 378.58it/s, now=None]WARNING:py.warnings:/usr/local/lib/python3.10/dist-packages/moviepy/audio/io/readers.py:197: UserWarning: Error in file downloads/cut_Bhul Jayi Na (Full Song)  Sharry Maan  Latest Punjabi Song 2017  Speed Records.mp3, At time t=30.01-30.06 seconds, indices wanted: 99448-100647, but len(buffer)=99449\n",
            "index 99449 is out of bounds for axis 0 with size 99449\n",
            "  warnings.warn(\"Error in file %s, \"%(self.filename)+\n",
            "\n",
            "chunk:  55%|█████▍    | 7263/13248 [00:12<00:17, 351.93it/s, now=None]WARNING:py.warnings:/usr/local/lib/python3.10/dist-packages/moviepy/audio/io/readers.py:197: UserWarning: Error in file downloads/cut_Latest Punjabi Song  Sharry Mann - Meri Zindagi  New Punajbi Songs.mp3, At time t=30.02-30.07 seconds, indices wanted: 99048-99847, but len(buffer)=99049\n",
            "index 99049 is out of bounds for axis 0 with size 99049\n",
            "  warnings.warn(\"Error in file %s, \"%(self.filename)+\n",
            "\n",
            "chunk:  60%|█████▉    | 7935/13248 [00:13<00:07, 667.75it/s, now=None]WARNING:py.warnings:/usr/local/lib/python3.10/dist-packages/moviepy/audio/io/readers.py:197: UserWarning: Error in file downloads/cut_Yankne - Sharry Maan - Full HD Brand New Punjabi Song 2012 HD  Punjabi Songs  Speed Records.mp3, At time t=30.00-30.05 seconds, indices wanted: 99848-101447, but len(buffer)=99849\n",
            "index 99849 is out of bounds for axis 0 with size 99849\n",
            "  warnings.warn(\"Error in file %s, \"%(self.filename)+\n",
            "\n",
            "chunk:  70%|██████▉   | 9249/13248 [00:15<00:06, 637.38it/s, now=None]WARNING:py.warnings:/usr/local/lib/python3.10/dist-packages/moviepy/audio/io/readers.py:197: UserWarning: Error in file downloads/cut_Putt Mehlan De.mp3, At time t=30.01-30.06 seconds, indices wanted: 99448-100648, but len(buffer)=99449\n",
            "index 99449 is out of bounds for axis 0 with size 99449\n",
            "  warnings.warn(\"Error in file %s, \"%(self.filename)+\n",
            "\n",
            "chunk:  80%|███████▉  | 10573/13248 [00:17<00:06, 401.20it/s, now=None]WARNING:py.warnings:/usr/local/lib/python3.10/dist-packages/moviepy/audio/io/readers.py:197: UserWarning: Error in file downloads/cut_Dilwale.mp3, At time t=30.02-30.07 seconds, indices wanted: 99048-99848, but len(buffer)=99049\n",
            "index 99049 is out of bounds for axis 0 with size 99049\n",
            "  warnings.warn(\"Error in file %s, \"%(self.filename)+\n",
            "\n",
            "chunk:  85%|████████▍ | 11247/13248 [00:19<00:03, 558.16it/s, now=None]WARNING:py.warnings:/usr/local/lib/python3.10/dist-packages/moviepy/audio/io/readers.py:197: UserWarning: Error in file downloads/cut_Dua.mp3, At time t=30.00-30.05 seconds, indices wanted: 99848-101448, but len(buffer)=99849\n",
            "index 99849 is out of bounds for axis 0 with size 99849\n",
            "  warnings.warn(\"Error in file %s, \"%(self.filename)+\n",
            "\n",
            "chunk:  95%|█████████▍| 12523/13248 [00:21<00:01, 692.48it/s, now=None]WARNING:py.warnings:/usr/local/lib/python3.10/dist-packages/moviepy/audio/io/readers.py:197: UserWarning: Error in file downloads/cut_Boomerang.mp3, At time t=30.01-30.06 seconds, indices wanted: 99448-100648, but len(buffer)=99449\n",
            "index 99449 is out of bounds for axis 0 with size 99449\n",
            "  warnings.warn(\"Error in file %s, \"%(self.filename)+\n",
            "\n",
            "                                                                       "
          ]
        },
        {
          "name": "stdout",
          "output_type": "stream",
          "text": [
            "MoviePy - Done.\n",
            "Mashup created successfully!\n"
          ]
        },
        {
          "name": "stderr",
          "output_type": "stream",
          "text": [
            "\r"
          ]
        }
      ],
      "source": [
        "import os\n",
        "import subprocess\n",
        "from youtubesearchpython import VideosSearch\n",
        "from pytube import YouTube  # Import the YouTube class\n",
        "from moviepy.editor import *\n",
        "\n",
        "def download_videos(singer_name, num_videos):\n",
        "    query = f\"{singer_name} songs\"\n",
        "    video_search = VideosSearch(query, limit=num_videos)\n",
        "    results = video_search.result()\n",
        "\n",
        "    video_links = []\n",
        "    for result in results['result']:\n",
        "        video_links.append(\"https://www.youtube.com/watch?v=\" + result['id'])\n",
        "\n",
        "    # Create the 'downloads' directory if it doesn't exist\n",
        "    os.makedirs(\"downloads\", exist_ok=True)\n",
        "\n",
        "    for url in video_links:\n",
        "        try:\n",
        "            yt = YouTube(url)\n",
        "            video = yt.streams.filter(only_audio=True).first()\n",
        "            video.download(output_path=\"downloads\")\n",
        "        except Exception as e:\n",
        "            print(\"An error occurred while downloading:\", str(e))\n",
        "\n",
        "def convert_to_audio():\n",
        "    for file in os.listdir(\"downloads\"):\n",
        "        if file.endswith(\".mp4\"):\n",
        "            audio_file = file.replace(\".mp4\", \".mp3\")\n",
        "            video_path = os.path.join(\"downloads\", file)\n",
        "            audio_path = os.path.join(\"downloads\", audio_file)\n",
        "            subprocess.run([\"ffmpeg\", \"-i\", video_path, audio_path])\n",
        "            os.remove(video_path)\n",
        "\n",
        "def cut_audio(duration):\n",
        "    for file in os.listdir(\"downloads\"):\n",
        "        if file.endswith(\".mp3\"):\n",
        "            audio = AudioFileClip(os.path.join(\"downloads\", file))\n",
        "            cut_audio = audio.subclip(0, duration)\n",
        "            cut_audio.write_audiofile(os.path.join(\"downloads\", f\"cut_{file}\"))\n",
        "            audio.close()\n",
        "\n",
        "def merge_audios(output_file):\n",
        "    audio_clips = []\n",
        "    for file in os.listdir(\"downloads\"):\n",
        "        if file.startswith(\"cut_\"):\n",
        "            audio_clips.append(AudioFileClip(os.path.join(\"downloads\", file)))\n",
        "    final_audio = concatenate_audioclips(audio_clips)\n",
        "    final_audio.write_audiofile(output_file)\n",
        "    for clip in audio_clips:\n",
        "        clip.close()\n",
        "\n",
        "def main():\n",
        "    singer_name = \"sharry maan\"\n",
        "    num_videos = 20\n",
        "    audio_duration = 30\n",
        "    output_file = \"102103438.mp3\"\n",
        "\n",
        "    try:\n",
        "        if num_videos <= 0 or audio_duration <= 20:\n",
        "            print(\"Number of videos must be greater than 0 and audio duration must be greater than 20 seconds.\")\n",
        "            return\n",
        "\n",
        "        if not output_file.endswith(\".mp3\"):\n",
        "            print(\"Output file must be in .mp3 format.\")\n",
        "            return\n",
        "\n",
        "        download_videos(singer_name, num_videos)\n",
        "        convert_to_audio()\n",
        "        cut_audio(audio_duration)\n",
        "        merge_audios(output_file)\n",
        "        print(\"Mashup created successfully!\")\n",
        "\n",
        "    except Exception as e:\n",
        "        print(\"An error occurred:\", str(e))\n",
        "\n",
        "if __name__ == \"__main__\":\n",
        "    main()"
      ]
    },
    {
      "cell_type": "code",
      "execution_count": null,
      "metadata": {
        "id": "z24HNNdoq8i0"
      },
      "outputs": [],
      "source": []
    }
  ],
  "metadata": {
    "colab": {
      "name": "Welcome To Colab",
      "provenance": [],
      "toc_visible": true
    },
    "kernelspec": {
      "display_name": "Python 3",
      "name": "python3"
    }
  },
  "nbformat": 4,
  "nbformat_minor": 0
}
